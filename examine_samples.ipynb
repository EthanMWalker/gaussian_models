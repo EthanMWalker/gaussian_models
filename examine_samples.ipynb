{
 "cells": [
  {
   "cell_type": "code",
   "execution_count": 11,
   "metadata": {},
   "outputs": [],
   "source": [
    "import torch\n",
    "import torch.nn as nn\n",
    "import torch.nn.functional as F\n",
    "import torchvision as tv\n",
    "from torchvision.transforms import transforms\n",
    "\n",
    "import pickle\n",
    "from tqdm import tqdm\n",
    "\n",
    "import matplotlib.pyplot as plt\n",
    "\n",
    "from rnn_gmm import RnnGmm\n",
    "device = torch.device('cuda:0' if torch.cuda.is_available() else 'cpu')"
   ]
  },
  {
   "cell_type": "code",
   "execution_count": 12,
   "metadata": {},
   "outputs": [],
   "source": [
    "def get_mnist(batch_size):\n",
    "  transform = transforms.Compose(\n",
    "    [\n",
    "      transforms.ToTensor(),\n",
    "      transforms.Normalize((0.1307,), (0.30811,)),\n",
    "      transforms.Lambda(lambda x: torch.flatten(x))\n",
    "      # transforms.Lambda(lambda x: torch.unsqueeze(x,0))\n",
    "    ]\n",
    "  )\n",
    "\n",
    "  train_set = tv.datasets.MNIST(\n",
    "    'data/', train=True, download=True, transform=transform\n",
    "  )\n",
    "  test_set = tv.datasets.MNIST(\n",
    "    'data/', train=False, download=True, transform=transform\n",
    "  )\n",
    "\n",
    "  train_loader = torch.utils.data.DataLoader(\n",
    "    train_set, batch_size\n",
    "  )\n",
    "  test_loader = torch.utils.data.DataLoader(\n",
    "    test_set, batch_size\n",
    "  )\n",
    "\n",
    "  return train_loader, test_loader, train_set, test_set\n",
    "batch_size = 10\n",
    "train_loader, test_loader, train_set, test_set = get_mnist(batch_size)"
   ]
  },
  {
   "cell_type": "code",
   "execution_count": 14,
   "metadata": {},
   "outputs": [
    {
     "data": {
      "text/plain": [
       "<All keys matched successfully>"
      ]
     },
     "execution_count": 14,
     "metadata": {},
     "output_type": "execute_result"
    }
   ],
   "source": [
    "model = RnnGmm(\n",
    "  28*28, 28, 32, 10, device\n",
    ").to(device)\n",
    "model.load_state_dict(torch.load('chkpt/large_rnngmm_1e-05.tar')['model_state_dict'])"
   ]
  },
  {
   "cell_type": "code",
   "execution_count": 15,
   "metadata": {},
   "outputs": [],
   "source": [
    "item = torch.stack((train_set[0][0],train_set[1][0],train_set[1][0]))\n",
    "item = item.to(device)\n",
    "mask = torch.round(torch.rand(item.size(1))).to(device)\n",
    "\n",
    "samples = model.sample(3, item, mask)"
   ]
  },
  {
   "cell_type": "code",
   "execution_count": 16,
   "metadata": {},
   "outputs": [],
   "source": [
    "sample = model.sample(3)"
   ]
  },
  {
   "cell_type": "code",
   "execution_count": 17,
   "metadata": {},
   "outputs": [
    {
     "data": {
      "image/png": "[encoded data removed]",
      "text/plain": [
       "<Figure size 432x288 with 1 Axes>"
      ]
     },
     "metadata": {
      "needs_background": "light"
     },
     "output_type": "display_data"
    }
   ],
   "source": [
    "new = sample[0].detach().cpu().numpy()\n",
    "\n",
    "plt.imshow(new.reshape((28,28)), cmap='gray')\n",
    "plt.show()"
   ]
  },
  {
   "cell_type": "code",
   "execution_count": 18,
   "metadata": {},
   "outputs": [
    {
     "data": {
      "image/png": "[encoded data removed]",
      "text/plain": [
       "<Figure size 432x288 with 1 Axes>"
      ]
     },
     "metadata": {
      "needs_background": "light"
     },
     "output_type": "display_data"
    },
    {
     "data": {
      "image/png": "[encoded data removed]",
      "text/plain": [
       "<Figure size 432x288 with 1 Axes>"
      ]
     },
     "metadata": {
      "needs_background": "light"
     },
     "output_type": "display_data"
    }
   ],
   "source": [
    "new = samples[1].detach().cpu().numpy()\n",
    "to_impute = item[1].detach().cpu().numpy()\n",
    "\n",
    "plt.imshow(to_impute.reshape((28,28)), cmap='gray')\n",
    "plt.show()\n",
    "\n",
    "item[1][torch.gt(1-mask, 0)] = samples[1]\n",
    "to_impute = item[1].detach().cpu().numpy()\n",
    "\n",
    "plt.imshow(to_impute.reshape((28,28)), cmap='gray')\n",
    "plt.show()"
   ]
  },
  {
   "cell_type": "code",
   "execution_count": 12,
   "metadata": {},
   "outputs": [
    {
     "data": {
      "text/plain": [
       "tensor([0.0000e+00, 1.0000e+00, 9.7562e-01, 0.0000e+00, 1.2468e-05])"
      ]
     },
     "execution_count": 12,
     "metadata": {},
     "output_type": "execute_result"
    }
   ],
   "source": [
    "def logsumexp(x, dim, keepdim=True):\n",
    "  c = torch.max(x, dim=dim).values\n",
    "  exp_ = torch.transpose(torch.exp(torch.transpose(x,0,1) - c),0,1)\n",
    "  sum_exp = torch.sum(exp_,dim=dim)\n",
    "  return c + torch.log(sum_exp)\n",
    "\n",
    "def log_prob(x, means, covs, pis):\n",
    "  covs = F.softplus(covs)\n",
    "  pis = F.relu(pis)\n",
    "  pis = torch.transpose(torch.transpose(pis,0,1) * torch.sum(pis,dim=1),0,1)\n",
    "  exp_cov = torch.exp(1./torch.sqrt(covs))\n",
    "  numer = -.5*(means*means + x*x - 2*x*means) \n",
    "  log_p = logsumexp(numer / covs * exp_cov, dim=1, keepdim=True)\n",
    "\n",
    "  return log_p\n",
    "\n",
    "x = torch.rand((5,1))*100\n",
    "means = torch.randn((5,10))*10\n",
    "covs = torch.rand((5,10))\n",
    "pis = torch.rand((5,10))\n",
    "\n",
    "torch.exp(log_prob(x,means,covs,pis))"
   ]
  },
  {
   "cell_type": "code",
   "execution_count": null,
   "metadata": {},
   "outputs": [],
   "source": []
  },
  {
   "cell_type": "code",
   "execution_count": null,
   "metadata": {},
   "outputs": [],
   "source": []
  }
 ],
 "metadata": {
  "interpreter": {
   "hash": "916dbcbb3f70747c44a77c7bcd40155683ae19c65e1c03b4aa3499c5328201f1"
  },
  "kernelspec": {
   "display_name": "Python 3.8.10 64-bit",
   "language": "python",
   "name": "python3"
  },
  "language_info": {
   "codemirror_mode": {
    "name": "ipython",
    "version": 3
   },
   "file_extension": ".py",
   "mimetype": "text/x-python",
   "name": "python",
   "nbconvert_exporter": "python",
   "pygments_lexer": "ipython3",
   "version": "3.8.10"
  },
  "orig_nbformat": 4
 },
 "nbformat": 4,
 "nbformat_minor": 2
}
